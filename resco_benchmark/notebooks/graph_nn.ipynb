{
 "cells": [
  {
   "cell_type": "code",
   "execution_count": 5,
   "metadata": {},
   "outputs": [
    {
     "name": "stdout",
     "output_type": "stream",
     "text": [
      "ingolstadt1 resco_benchmark/environments/ingolstadt1/ingolstadt1.sumocfg drq_norm wait_norm\n",
      " Retrying in 1 seconds\n",
      "lights 1 ('gneJ207',)\n",
      "Step #57600.00 (0ms ?*RT. ?UPS, TraCI: 5ms, vehicles TOT 0 ACT 0 BUF 0)                   \n"
     ]
    },
    {
     "ename": "OSError",
     "evalue": "[Errno 30] Read-only file system: '/test-ingolstadt1-0-drq_norm-wait_norm'",
     "output_type": "error",
     "traceback": [
      "\u001b[0;31m---------------------------------------------------------------------------\u001b[0m",
      "\u001b[0;31mOSError\u001b[0m                                   Traceback (most recent call last)",
      "Cell \u001b[0;32mIn[5], line 15\u001b[0m\n\u001b[1;32m     12\u001b[0m map_name \u001b[38;5;241m=\u001b[39m \u001b[38;5;124m'\u001b[39m\u001b[38;5;124mingolstadt1\u001b[39m\u001b[38;5;124m'\u001b[39m\n\u001b[1;32m     13\u001b[0m map_config \u001b[38;5;241m=\u001b[39m map_configs[map_name]\n\u001b[0;32m---> 15\u001b[0m env \u001b[38;5;241m=\u001b[39m \u001b[43mMultiSignal\u001b[49m\u001b[43m(\u001b[49m\u001b[43mrun_name\u001b[49m\u001b[43m \u001b[49m\u001b[38;5;241;43m=\u001b[39;49m\u001b[43m \u001b[49m\u001b[38;5;124;43m'\u001b[39;49m\u001b[38;5;124;43mtest\u001b[39;49m\u001b[38;5;124;43m'\u001b[39;49m\u001b[43m,\u001b[49m\u001b[43m \u001b[49m\u001b[43mmap_name\u001b[49m\u001b[43m \u001b[49m\u001b[38;5;241;43m=\u001b[39;49m\u001b[43m \u001b[49m\u001b[43mmap_name\u001b[49m\u001b[43m,\u001b[49m\u001b[43m \u001b[49m\n\u001b[1;32m     16\u001b[0m \u001b[43m                  \u001b[49m\u001b[43mnet\u001b[49m\u001b[43m \u001b[49m\u001b[38;5;241;43m=\u001b[39;49m\u001b[43m \u001b[49m\u001b[43mos\u001b[49m\u001b[38;5;241;43m.\u001b[39;49m\u001b[43mpath\u001b[49m\u001b[38;5;241;43m.\u001b[39;49m\u001b[43mjoin\u001b[49m\u001b[43m(\u001b[49m\u001b[38;5;124;43m'\u001b[39;49m\u001b[38;5;124;43mresco_benchmark/\u001b[39;49m\u001b[38;5;124;43m'\u001b[39;49m\u001b[43m,\u001b[49m\u001b[43m \u001b[49m\u001b[43mmap_config\u001b[49m\u001b[43m[\u001b[49m\u001b[38;5;124;43m'\u001b[39;49m\u001b[38;5;124;43mnet\u001b[39;49m\u001b[38;5;124;43m'\u001b[39;49m\u001b[43m]\u001b[49m\u001b[43m)\u001b[49m\u001b[43m,\u001b[49m\u001b[43m \u001b[49m\u001b[43mstate_fn\u001b[49m\u001b[43m \u001b[49m\u001b[38;5;241;43m=\u001b[39;49m\u001b[43m \u001b[49m\u001b[43margs\u001b[49m\u001b[43m[\u001b[49m\u001b[38;5;124;43m'\u001b[39;49m\u001b[38;5;124;43mstate\u001b[39;49m\u001b[38;5;124;43m'\u001b[39;49m\u001b[43m]\u001b[49m\u001b[43m,\u001b[49m\u001b[43m \u001b[49m\n\u001b[1;32m     17\u001b[0m \u001b[43m                  \u001b[49m\u001b[43mreward_fn\u001b[49m\u001b[43m \u001b[49m\u001b[38;5;241;43m=\u001b[39;49m\u001b[43m \u001b[49m\u001b[43margs\u001b[49m\u001b[43m[\u001b[49m\u001b[38;5;124;43m'\u001b[39;49m\u001b[38;5;124;43mreward\u001b[39;49m\u001b[38;5;124;43m'\u001b[39;49m\u001b[43m]\u001b[49m\u001b[43m,\u001b[49m\u001b[43m \u001b[49m\u001b[43mroute\u001b[49m\u001b[38;5;241;43m=\u001b[39;49m\u001b[38;5;28;43;01mNone\u001b[39;49;00m\u001b[43m,\u001b[49m\u001b[43m \u001b[49m\u001b[43mgui\u001b[49m\u001b[38;5;241;43m=\u001b[39;49m\u001b[38;5;28;43;01mFalse\u001b[39;49;00m\u001b[43m,\u001b[49m\u001b[43m \u001b[49m\n\u001b[1;32m     18\u001b[0m \u001b[43m                  \u001b[49m\u001b[43mend_time\u001b[49m\u001b[38;5;241;43m=\u001b[39;49m\u001b[38;5;241;43m3600\u001b[39;49m\u001b[43m,\u001b[49m\u001b[43m \u001b[49m\u001b[43mstep_length\u001b[49m\u001b[38;5;241;43m=\u001b[39;49m\u001b[38;5;241;43m10\u001b[39;49m\u001b[43m,\u001b[49m\u001b[43m \u001b[49m\u001b[43myellow_length\u001b[49m\u001b[38;5;241;43m=\u001b[39;49m\u001b[38;5;241;43m4\u001b[39;49m\u001b[43m,\u001b[49m\u001b[43m \u001b[49m\u001b[43mstep_ratio\u001b[49m\u001b[38;5;241;43m=\u001b[39;49m\u001b[38;5;241;43m1\u001b[39;49m\u001b[43m,\u001b[49m\u001b[43m \u001b[49m\n\u001b[1;32m     19\u001b[0m \u001b[43m                  \u001b[49m\u001b[43mmax_distance\u001b[49m\u001b[38;5;241;43m=\u001b[39;49m\u001b[38;5;241;43m200\u001b[39;49m\u001b[43m,\u001b[49m\u001b[43m \u001b[49m\u001b[43mlights\u001b[49m\u001b[38;5;241;43m=\u001b[39;49m\u001b[43m(\u001b[49m\u001b[43m)\u001b[49m\u001b[43m,\u001b[49m\u001b[43m \u001b[49m\u001b[43mlog_dir\u001b[49m\u001b[38;5;241;43m=\u001b[39;49m\u001b[38;5;124;43m'\u001b[39;49m\u001b[38;5;124;43m/\u001b[39;49m\u001b[38;5;124;43m'\u001b[39;49m\u001b[43m,\u001b[49m\u001b[43m \u001b[49m\u001b[43mlibsumo\u001b[49m\u001b[38;5;241;43m=\u001b[39;49m\u001b[38;5;28;43;01mFalse\u001b[39;49;00m\u001b[43m,\u001b[49m\u001b[43m \u001b[49m\u001b[43mwarmup\u001b[49m\u001b[38;5;241;43m=\u001b[39;49m\u001b[38;5;241;43m0\u001b[39;49m\u001b[43m,\u001b[49m\u001b[43m \u001b[49m\u001b[43mgymma\u001b[49m\u001b[38;5;241;43m=\u001b[39;49m\u001b[38;5;28;43;01mFalse\u001b[39;49;00m\u001b[43m)\u001b[49m\n",
      "File \u001b[0;32m~/Documents/GitHub/RESCO_Test/resco_benchmark/multi_signal.py:93\u001b[0m, in \u001b[0;36mMultiSignal.__init__\u001b[0;34m(self, run_name, map_name, net, state_fn, reward_fn, route, gui, end_time, step_length, yellow_length, step_ratio, max_distance, lights, log_dir, libsumo, warmup, gymma)\u001b[0m\n\u001b[1;32m     91\u001b[0m \u001b[38;5;28mself\u001b[39m\u001b[38;5;241m.\u001b[39mconnection_name \u001b[38;5;241m=\u001b[39m run_name \u001b[38;5;241m+\u001b[39m \u001b[38;5;124m'\u001b[39m\u001b[38;5;124m-\u001b[39m\u001b[38;5;124m'\u001b[39m \u001b[38;5;241m+\u001b[39m map_name \u001b[38;5;241m+\u001b[39m \u001b[38;5;124m'\u001b[39m\u001b[38;5;124m-\u001b[39m\u001b[38;5;124m'\u001b[39m \u001b[38;5;241m+\u001b[39m \u001b[38;5;28mstr\u001b[39m(\u001b[38;5;28mlen\u001b[39m(lights)) \u001b[38;5;241m+\u001b[39m \u001b[38;5;124m'\u001b[39m\u001b[38;5;124m-\u001b[39m\u001b[38;5;124m'\u001b[39m \u001b[38;5;241m+\u001b[39m state_fn\u001b[38;5;241m.\u001b[39m\u001b[38;5;18m__name__\u001b[39m \u001b[38;5;241m+\u001b[39m \u001b[38;5;124m'\u001b[39m\u001b[38;5;124m-\u001b[39m\u001b[38;5;124m'\u001b[39m \u001b[38;5;241m+\u001b[39m reward_fn\u001b[38;5;241m.\u001b[39m\u001b[38;5;18m__name__\u001b[39m\n\u001b[1;32m     92\u001b[0m \u001b[38;5;28;01mif\u001b[39;00m \u001b[38;5;129;01mnot\u001b[39;00m os\u001b[38;5;241m.\u001b[39mpath\u001b[38;5;241m.\u001b[39mexists(log_dir\u001b[38;5;241m+\u001b[39m\u001b[38;5;28mself\u001b[39m\u001b[38;5;241m.\u001b[39mconnection_name):\n\u001b[0;32m---> 93\u001b[0m     \u001b[43mos\u001b[49m\u001b[38;5;241;43m.\u001b[39;49m\u001b[43mmakedirs\u001b[49m\u001b[43m(\u001b[49m\u001b[43mlog_dir\u001b[49m\u001b[38;5;241;43m+\u001b[39;49m\u001b[38;5;28;43mself\u001b[39;49m\u001b[38;5;241;43m.\u001b[39;49m\u001b[43mconnection_name\u001b[49m\u001b[43m)\u001b[49m\n\u001b[1;32m     94\u001b[0m \u001b[38;5;28mself\u001b[39m\u001b[38;5;241m.\u001b[39msumo_cmd \u001b[38;5;241m=\u001b[39m \u001b[38;5;28;01mNone\u001b[39;00m\n\u001b[1;32m     95\u001b[0m \u001b[38;5;28mprint\u001b[39m(\u001b[38;5;124m'\u001b[39m\u001b[38;5;124mConnection ID\u001b[39m\u001b[38;5;124m'\u001b[39m, \u001b[38;5;28mself\u001b[39m\u001b[38;5;241m.\u001b[39mconnection_name)\n",
      "File \u001b[0;32m/opt/miniconda3/envs/deepsenseai/lib/python3.10/os.py:225\u001b[0m, in \u001b[0;36mmakedirs\u001b[0;34m(name, mode, exist_ok)\u001b[0m\n\u001b[1;32m    223\u001b[0m         \u001b[38;5;28;01mreturn\u001b[39;00m\n\u001b[1;32m    224\u001b[0m \u001b[38;5;28;01mtry\u001b[39;00m:\n\u001b[0;32m--> 225\u001b[0m     \u001b[43mmkdir\u001b[49m\u001b[43m(\u001b[49m\u001b[43mname\u001b[49m\u001b[43m,\u001b[49m\u001b[43m \u001b[49m\u001b[43mmode\u001b[49m\u001b[43m)\u001b[49m\n\u001b[1;32m    226\u001b[0m \u001b[38;5;28;01mexcept\u001b[39;00m \u001b[38;5;167;01mOSError\u001b[39;00m:\n\u001b[1;32m    227\u001b[0m     \u001b[38;5;66;03m# Cannot rely on checking for EEXIST, since the operating system\u001b[39;00m\n\u001b[1;32m    228\u001b[0m     \u001b[38;5;66;03m# could give priority to other errors like EACCES or EROFS\u001b[39;00m\n\u001b[1;32m    229\u001b[0m     \u001b[38;5;28;01mif\u001b[39;00m \u001b[38;5;129;01mnot\u001b[39;00m exist_ok \u001b[38;5;129;01mor\u001b[39;00m \u001b[38;5;129;01mnot\u001b[39;00m path\u001b[38;5;241m.\u001b[39misdir(name):\n",
      "\u001b[0;31mOSError\u001b[0m: [Errno 30] Read-only file system: '/test-ingolstadt1-0-drq_norm-wait_norm'"
     ]
    }
   ],
   "source": [
    "import os\n",
    "\n",
    "while 'resco_benchmark' not in os.listdir():\n",
    "    os.chdir('..')\n",
    "\n",
    "from resco_benchmark.multi_signal import MultiSignal\n",
    "from resco_benchmark.config.agent_config import agent_configs\n",
    "from resco_benchmark.config.map_config import map_configs\n",
    "from resco_benchmark.config.mdp_config import mdp_configs\n",
    "\n",
    "args = agent_configs['IDQN']\n",
    "map_name = 'ingolstadt1'\n",
    "map_config = map_configs[map_name]\n",
    "\n",
    "env = MultiSignal(run_name = 'test', map_name = map_name, \n",
    "                  net = os.path.join('resco_benchmark/', map_config['net']), state_fn = args['state'], \n",
    "                  reward_fn = args['reward'], route=None, gui=False, \n",
    "                  end_time=3600, step_length=10, yellow_length=4, step_ratio=1, \n",
    "                  max_distance=200, lights=(), log_dir='/', libsumo=False, warmup=0, gymma=False)"
   ]
  },
  {
   "cell_type": "code",
   "execution_count": 4,
   "metadata": {},
   "outputs": [
    {
     "data": {
      "text/plain": [
       "'environments/ingolstadt1/ingolstadt1.sumocfg'"
      ]
     },
     "execution_count": 4,
     "metadata": {},
     "output_type": "execute_result"
    }
   ],
   "source": [
    "map_config['net']"
   ]
  },
  {
   "cell_type": "code",
   "execution_count": 3,
   "metadata": {},
   "outputs": [
    {
     "name": "stdout",
     "output_type": "stream",
     "text": [
      "Creative Commons — Attribution-NonCommercial-ShareAlike 4.0 International — CC BY-NC-SA 4.0.pdf\n",
      "MANIFEST.in\n",
      "README.md\n",
      "delays.png\n",
      "maps.png\n",
      "\u001b[34mresco_benchmark\u001b[m\u001b[m\n",
      "setup.py\n"
     ]
    }
   ],
   "source": [
    "import os\n",
    "while 'resco_benchmark' not in os.listdir():\n",
    "    os.chdir('..')\n",
    "!ls"
   ]
  },
  {
   "cell_type": "code",
   "execution_count": 13,
   "metadata": {},
   "outputs": [
    {
     "data": {
      "text/plain": [
       "'/Users/pawelnarkiewicz/Documents/GitHub/RESCO_Test'"
      ]
     },
     "execution_count": 13,
     "metadata": {},
     "output_type": "execute_result"
    }
   ],
   "source": []
  },
  {
   "cell_type": "code",
   "execution_count": 24,
   "metadata": {},
   "outputs": [
    {
     "name": "stdout",
     "output_type": "stream",
     "text": [
      "torch.Size([10, 5, 2])\n"
     ]
    }
   ],
   "source": [
    "import torch\n",
    "import torch.nn as nn\n",
    "import torch.nn.functional as F\n",
    "\n",
    "# REMARK: no activation function in GraphConvLayer!!!\n",
    "class GraphConvLayer(nn.Module):\n",
    "    def __init__(self, input_dim, output_dim):\n",
    "        super(GraphConvLayer, self).__init__()\n",
    "        self.linear = nn.Linear(input_dim, output_dim)\n",
    "\n",
    "    def forward(self, x, adj_matrix):\n",
    "        \"\"\"\n",
    "        x: [B, NUM_NODES, INPUT_DIM]\n",
    "        adj_matrix: [NUM_NODES, NUM_NODES]\n",
    "\n",
    "        output: [B, NUM_NODES, OUTPUT_DIM]\n",
    "        \"\"\"\n",
    "\n",
    "        batch_size, num_nodes, _ = x.size()\n",
    "\n",
    "        adj_matrix_hat = adj_matrix + torch.eye(n=num_nodes)\n",
    "        deg_mat_inv_square_root = torch.diag(torch.sum(adj_matrix, dim=-1)** (-0.5))\n",
    "        adj_matrix_modified = deg_mat_inv_square_root @ adj_matrix_hat @ deg_mat_inv_square_root\n",
    "        \n",
    "        output = self.linear(adj_matrix_modified @ x)\n",
    "        \n",
    "        return output\n",
    "\n",
    "class GraphNeuralNetwork(nn.Module):\n",
    "    def __init__(self, input_dim, hidden_dim, output_dim, num_layers):\n",
    "        super(GraphNeuralNetwork, self).__init__()\n",
    "        assert num_layers >= 2, \"Number of layers needs to be greater or equal to 2\"\n",
    "        self.num_middle_layers = num_layers-2\n",
    "        self.first_layer = GraphConvLayer(input_dim, hidden_dim)\n",
    "        self.middle_layers = nn.ModuleList([GraphConvLayer(hidden_dim, hidden_dim) for _ in range(self.num_middle_layers)])\n",
    "        self.last_layer = GraphConvLayer(hidden_dim, output_dim)\n",
    "\n",
    "    def forward(self, x, adj_matrix):\n",
    "        \"\"\"\n",
    "        x: [B, NUM_NODES, INPUT_FEATURES]\n",
    "        adj_matrix: [NUM_NODES, NUM_NODES]\n",
    "\n",
    "        output: [B, NUM_NODES, OUTPUT_DIM]\n",
    "        \"\"\"\n",
    "        x = F.relu(self.first_layer(x, adj_matrix))\n",
    "        for i in range(self.num_middle_layers):\n",
    "            x = F.relu(self.middle_layers[i](x, adj_matrix))\n",
    "        output = self.last_layer(x, adj_matrix)\n",
    "        return output\n",
    "\n",
    "# Correctness test\n",
    "input_dim = 16\n",
    "hidden_dim = 32\n",
    "output_dim = 2\n",
    "batch_size = 10\n",
    "num_nodes = 5\n",
    "num_layers = 6\n",
    "\n",
    "x = torch.randn(batch_size, num_nodes, input_dim)\n",
    "adj_matrix = torch.randint(0, 2, (num_nodes, num_nodes)).float()\n",
    "\n",
    "gnn = GraphNeuralNetwork(input_dim, hidden_dim, output_dim, num_layers)\n",
    "\n",
    "output = gnn(x, adj_matrix)\n",
    "print(output.shape)\n"
   ]
  },
  {
   "cell_type": "code",
   "execution_count": 6,
   "metadata": {},
   "outputs": [
    {
     "name": "stdout",
     "output_type": "stream",
     "text": [
      "Collecting pfrl\n",
      "  Downloading pfrl-0.4.0.tar.gz (112 kB)\n",
      "\u001b[2K     \u001b[90m━━━━━━━━━━━━━━━━━━━━━━━━━━━━━━━━━━━━━━━\u001b[0m \u001b[32m112.6/112.6 kB\u001b[0m \u001b[31m1.6 MB/s\u001b[0m eta \u001b[36m0:00:00\u001b[0ma \u001b[36m0:00:01\u001b[0m\n",
      "\u001b[?25h  Preparing metadata (setup.py) ... \u001b[?25ldone\n",
      "\u001b[?25hRequirement already satisfied: torch>=1.3.0 in /opt/miniconda3/envs/deepsenseai/lib/python3.10/site-packages (from pfrl) (1.13.1)\n",
      "Requirement already satisfied: gym>=0.9.7 in /opt/miniconda3/envs/deepsenseai/lib/python3.10/site-packages (from pfrl) (0.26.2)\n",
      "Requirement already satisfied: numpy>=1.10.4 in /opt/miniconda3/envs/deepsenseai/lib/python3.10/site-packages (from pfrl) (1.24.1)\n",
      "Requirement already satisfied: pillow in /opt/miniconda3/envs/deepsenseai/lib/python3.10/site-packages (from pfrl) (10.1.0)\n",
      "Requirement already satisfied: filelock in /opt/miniconda3/envs/deepsenseai/lib/python3.10/site-packages (from pfrl) (3.13.1)\n",
      "Requirement already satisfied: cloudpickle>=1.2.0 in /opt/miniconda3/envs/deepsenseai/lib/python3.10/site-packages (from gym>=0.9.7->pfrl) (2.2.1)\n",
      "Requirement already satisfied: gym-notices>=0.0.4 in /opt/miniconda3/envs/deepsenseai/lib/python3.10/site-packages (from gym>=0.9.7->pfrl) (0.0.8)\n",
      "Requirement already satisfied: typing-extensions in /opt/miniconda3/envs/deepsenseai/lib/python3.10/site-packages (from torch>=1.3.0->pfrl) (4.9.0)\n",
      "Building wheels for collected packages: pfrl\n",
      "  Building wheel for pfrl (setup.py) ... \u001b[?25ldone\n",
      "\u001b[?25h  Created wheel for pfrl: filename=pfrl-0.4.0-py3-none-any.whl size=155461 sha256=86e102835bcab5647941cc041b572ed9901d61fbc40d68742f81493b3905a8dd\n",
      "  Stored in directory: /Users/pawelnarkiewicz/Library/Caches/pip/wheels/22/4a/0f/a87cd1ae925086eb3a1b8759f620fcf48e47939fb082946c3b\n",
      "Successfully built pfrl\n",
      "\u001b[33mWARNING: Error parsing requirements for fastjsonschema: [Errno 2] No such file or directory: '/opt/miniconda3/envs/deepsenseai/lib/python3.10/site-packages/fastjsonschema-2.16.2.dist-info/METADATA'\u001b[0m\u001b[33m\n",
      "\u001b[0m\u001b[33mWARNING: Error parsing requirements for soupsieve: [Errno 2] No such file or directory: '/opt/miniconda3/envs/deepsenseai/lib/python3.10/site-packages/soupsieve-2.3.2.post1.dist-info/METADATA'\u001b[0m\u001b[33m\n",
      "\u001b[0mInstalling collected packages: pfrl\n",
      "Successfully installed pfrl-0.4.0\n"
     ]
    }
   ],
   "source": [
    "!pip install pfrl"
   ]
  },
  {
   "cell_type": "code",
   "execution_count": null,
   "metadata": {},
   "outputs": [],
   "source": []
  }
 ],
 "metadata": {
  "kernelspec": {
   "display_name": "deepsenseai",
   "language": "python",
   "name": "python3"
  },
  "language_info": {
   "codemirror_mode": {
    "name": "ipython",
    "version": 3
   },
   "file_extension": ".py",
   "mimetype": "text/x-python",
   "name": "python",
   "nbconvert_exporter": "python",
   "pygments_lexer": "ipython3",
   "version": "3.10.13"
  }
 },
 "nbformat": 4,
 "nbformat_minor": 2
}
