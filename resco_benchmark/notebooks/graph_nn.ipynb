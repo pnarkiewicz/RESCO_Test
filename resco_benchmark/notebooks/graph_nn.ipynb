{
 "cells": [
  {
   "cell_type": "code",
   "execution_count": 5,
   "metadata": {},
   "outputs": [
    {
     "name": "stdout",
     "output_type": "stream",
     "text": [
      "ingolstadt1 resco_benchmark/environments/ingolstadt1/ingolstadt1.sumocfg drq_norm wait_norm\n",
      " Retrying in 1 seconds\n",
      "lights 1 ('gneJ207',)\n",
      "Step #57600.00 (0ms ?*RT. ?UPS, TraCI: 5ms, vehicles TOT 0 ACT 0 BUF 0)                   \n"
     ]
    },
    {
     "ename": "OSError",
     "evalue": "[Errno 30] Read-only file system: '/test-ingolstadt1-0-drq_norm-wait_norm'",
     "output_type": "error",
     "traceback": [
      "\u001b[0;31m---------------------------------------------------------------------------\u001b[0m",
      "\u001b[0;31mOSError\u001b[0m                                   Traceback (most recent call last)",
      "Cell \u001b[0;32mIn[5], line 15\u001b[0m\n\u001b[1;32m     12\u001b[0m map_name \u001b[38;5;241m=\u001b[39m \u001b[38;5;124m'\u001b[39m\u001b[38;5;124mingolstadt1\u001b[39m\u001b[38;5;124m'\u001b[39m\n\u001b[1;32m     13\u001b[0m map_config \u001b[38;5;241m=\u001b[39m map_configs[map_name]\n\u001b[0;32m---> 15\u001b[0m env \u001b[38;5;241m=\u001b[39m \u001b[43mMultiSignal\u001b[49m\u001b[43m(\u001b[49m\u001b[43mrun_name\u001b[49m\u001b[43m \u001b[49m\u001b[38;5;241;43m=\u001b[39;49m\u001b[43m \u001b[49m\u001b[38;5;124;43m'\u001b[39;49m\u001b[38;5;124;43mtest\u001b[39;49m\u001b[38;5;124;43m'\u001b[39;49m\u001b[43m,\u001b[49m\u001b[43m \u001b[49m\u001b[43mmap_name\u001b[49m\u001b[43m \u001b[49m\u001b[38;5;241;43m=\u001b[39;49m\u001b[43m \u001b[49m\u001b[43mmap_name\u001b[49m\u001b[43m,\u001b[49m\u001b[43m \u001b[49m\n\u001b[1;32m     16\u001b[0m \u001b[43m                  \u001b[49m\u001b[43mnet\u001b[49m\u001b[43m \u001b[49m\u001b[38;5;241;43m=\u001b[39;49m\u001b[43m \u001b[49m\u001b[43mos\u001b[49m\u001b[38;5;241;43m.\u001b[39;49m\u001b[43mpath\u001b[49m\u001b[38;5;241;43m.\u001b[39;49m\u001b[43mjoin\u001b[49m\u001b[43m(\u001b[49m\u001b[38;5;124;43m'\u001b[39;49m\u001b[38;5;124;43mresco_benchmark/\u001b[39;49m\u001b[38;5;124;43m'\u001b[39;49m\u001b[43m,\u001b[49m\u001b[43m \u001b[49m\u001b[43mmap_config\u001b[49m\u001b[43m[\u001b[49m\u001b[38;5;124;43m'\u001b[39;49m\u001b[38;5;124;43mnet\u001b[39;49m\u001b[38;5;124;43m'\u001b[39;49m\u001b[43m]\u001b[49m\u001b[43m)\u001b[49m\u001b[43m,\u001b[49m\u001b[43m \u001b[49m\u001b[43mstate_fn\u001b[49m\u001b[43m \u001b[49m\u001b[38;5;241;43m=\u001b[39;49m\u001b[43m \u001b[49m\u001b[43margs\u001b[49m\u001b[43m[\u001b[49m\u001b[38;5;124;43m'\u001b[39;49m\u001b[38;5;124;43mstate\u001b[39;49m\u001b[38;5;124;43m'\u001b[39;49m\u001b[43m]\u001b[49m\u001b[43m,\u001b[49m\u001b[43m \u001b[49m\n\u001b[1;32m     17\u001b[0m \u001b[43m                  \u001b[49m\u001b[43mreward_fn\u001b[49m\u001b[43m \u001b[49m\u001b[38;5;241;43m=\u001b[39;49m\u001b[43m \u001b[49m\u001b[43margs\u001b[49m\u001b[43m[\u001b[49m\u001b[38;5;124;43m'\u001b[39;49m\u001b[38;5;124;43mreward\u001b[39;49m\u001b[38;5;124;43m'\u001b[39;49m\u001b[43m]\u001b[49m\u001b[43m,\u001b[49m\u001b[43m \u001b[49m\u001b[43mroute\u001b[49m\u001b[38;5;241;43m=\u001b[39;49m\u001b[38;5;28;43;01mNone\u001b[39;49;00m\u001b[43m,\u001b[49m\u001b[43m \u001b[49m\u001b[43mgui\u001b[49m\u001b[38;5;241;43m=\u001b[39;49m\u001b[38;5;28;43;01mFalse\u001b[39;49;00m\u001b[43m,\u001b[49m\u001b[43m \u001b[49m\n\u001b[1;32m     18\u001b[0m \u001b[43m                  \u001b[49m\u001b[43mend_time\u001b[49m\u001b[38;5;241;43m=\u001b[39;49m\u001b[38;5;241;43m3600\u001b[39;49m\u001b[43m,\u001b[49m\u001b[43m \u001b[49m\u001b[43mstep_length\u001b[49m\u001b[38;5;241;43m=\u001b[39;49m\u001b[38;5;241;43m10\u001b[39;49m\u001b[43m,\u001b[49m\u001b[43m \u001b[49m\u001b[43myellow_length\u001b[49m\u001b[38;5;241;43m=\u001b[39;49m\u001b[38;5;241;43m4\u001b[39;49m\u001b[43m,\u001b[49m\u001b[43m \u001b[49m\u001b[43mstep_ratio\u001b[49m\u001b[38;5;241;43m=\u001b[39;49m\u001b[38;5;241;43m1\u001b[39;49m\u001b[43m,\u001b[49m\u001b[43m \u001b[49m\n\u001b[1;32m     19\u001b[0m \u001b[43m                  \u001b[49m\u001b[43mmax_distance\u001b[49m\u001b[38;5;241;43m=\u001b[39;49m\u001b[38;5;241;43m200\u001b[39;49m\u001b[43m,\u001b[49m\u001b[43m \u001b[49m\u001b[43mlights\u001b[49m\u001b[38;5;241;43m=\u001b[39;49m\u001b[43m(\u001b[49m\u001b[43m)\u001b[49m\u001b[43m,\u001b[49m\u001b[43m \u001b[49m\u001b[43mlog_dir\u001b[49m\u001b[38;5;241;43m=\u001b[39;49m\u001b[38;5;124;43m'\u001b[39;49m\u001b[38;5;124;43m/\u001b[39;49m\u001b[38;5;124;43m'\u001b[39;49m\u001b[43m,\u001b[49m\u001b[43m \u001b[49m\u001b[43mlibsumo\u001b[49m\u001b[38;5;241;43m=\u001b[39;49m\u001b[38;5;28;43;01mFalse\u001b[39;49;00m\u001b[43m,\u001b[49m\u001b[43m \u001b[49m\u001b[43mwarmup\u001b[49m\u001b[38;5;241;43m=\u001b[39;49m\u001b[38;5;241;43m0\u001b[39;49m\u001b[43m,\u001b[49m\u001b[43m \u001b[49m\u001b[43mgymma\u001b[49m\u001b[38;5;241;43m=\u001b[39;49m\u001b[38;5;28;43;01mFalse\u001b[39;49;00m\u001b[43m)\u001b[49m\n",
      "File \u001b[0;32m~/Documents/GitHub/RESCO_Test/resco_benchmark/multi_signal.py:93\u001b[0m, in \u001b[0;36mMultiSignal.__init__\u001b[0;34m(self, run_name, map_name, net, state_fn, reward_fn, route, gui, end_time, step_length, yellow_length, step_ratio, max_distance, lights, log_dir, libsumo, warmup, gymma)\u001b[0m\n\u001b[1;32m     91\u001b[0m \u001b[38;5;28mself\u001b[39m\u001b[38;5;241m.\u001b[39mconnection_name \u001b[38;5;241m=\u001b[39m run_name \u001b[38;5;241m+\u001b[39m \u001b[38;5;124m'\u001b[39m\u001b[38;5;124m-\u001b[39m\u001b[38;5;124m'\u001b[39m \u001b[38;5;241m+\u001b[39m map_name \u001b[38;5;241m+\u001b[39m \u001b[38;5;124m'\u001b[39m\u001b[38;5;124m-\u001b[39m\u001b[38;5;124m'\u001b[39m \u001b[38;5;241m+\u001b[39m \u001b[38;5;28mstr\u001b[39m(\u001b[38;5;28mlen\u001b[39m(lights)) \u001b[38;5;241m+\u001b[39m \u001b[38;5;124m'\u001b[39m\u001b[38;5;124m-\u001b[39m\u001b[38;5;124m'\u001b[39m \u001b[38;5;241m+\u001b[39m state_fn\u001b[38;5;241m.\u001b[39m\u001b[38;5;18m__name__\u001b[39m \u001b[38;5;241m+\u001b[39m \u001b[38;5;124m'\u001b[39m\u001b[38;5;124m-\u001b[39m\u001b[38;5;124m'\u001b[39m \u001b[38;5;241m+\u001b[39m reward_fn\u001b[38;5;241m.\u001b[39m\u001b[38;5;18m__name__\u001b[39m\n\u001b[1;32m     92\u001b[0m \u001b[38;5;28;01mif\u001b[39;00m \u001b[38;5;129;01mnot\u001b[39;00m os\u001b[38;5;241m.\u001b[39mpath\u001b[38;5;241m.\u001b[39mexists(log_dir\u001b[38;5;241m+\u001b[39m\u001b[38;5;28mself\u001b[39m\u001b[38;5;241m.\u001b[39mconnection_name):\n\u001b[0;32m---> 93\u001b[0m     \u001b[43mos\u001b[49m\u001b[38;5;241;43m.\u001b[39;49m\u001b[43mmakedirs\u001b[49m\u001b[43m(\u001b[49m\u001b[43mlog_dir\u001b[49m\u001b[38;5;241;43m+\u001b[39;49m\u001b[38;5;28;43mself\u001b[39;49m\u001b[38;5;241;43m.\u001b[39;49m\u001b[43mconnection_name\u001b[49m\u001b[43m)\u001b[49m\n\u001b[1;32m     94\u001b[0m \u001b[38;5;28mself\u001b[39m\u001b[38;5;241m.\u001b[39msumo_cmd \u001b[38;5;241m=\u001b[39m \u001b[38;5;28;01mNone\u001b[39;00m\n\u001b[1;32m     95\u001b[0m \u001b[38;5;28mprint\u001b[39m(\u001b[38;5;124m'\u001b[39m\u001b[38;5;124mConnection ID\u001b[39m\u001b[38;5;124m'\u001b[39m, \u001b[38;5;28mself\u001b[39m\u001b[38;5;241m.\u001b[39mconnection_name)\n",
      "File \u001b[0;32m/opt/miniconda3/envs/deepsenseai/lib/python3.10/os.py:225\u001b[0m, in \u001b[0;36mmakedirs\u001b[0;34m(name, mode, exist_ok)\u001b[0m\n\u001b[1;32m    223\u001b[0m         \u001b[38;5;28;01mreturn\u001b[39;00m\n\u001b[1;32m    224\u001b[0m \u001b[38;5;28;01mtry\u001b[39;00m:\n\u001b[0;32m--> 225\u001b[0m     \u001b[43mmkdir\u001b[49m\u001b[43m(\u001b[49m\u001b[43mname\u001b[49m\u001b[43m,\u001b[49m\u001b[43m \u001b[49m\u001b[43mmode\u001b[49m\u001b[43m)\u001b[49m\n\u001b[1;32m    226\u001b[0m \u001b[38;5;28;01mexcept\u001b[39;00m \u001b[38;5;167;01mOSError\u001b[39;00m:\n\u001b[1;32m    227\u001b[0m     \u001b[38;5;66;03m# Cannot rely on checking for EEXIST, since the operating system\u001b[39;00m\n\u001b[1;32m    228\u001b[0m     \u001b[38;5;66;03m# could give priority to other errors like EACCES or EROFS\u001b[39;00m\n\u001b[1;32m    229\u001b[0m     \u001b[38;5;28;01mif\u001b[39;00m \u001b[38;5;129;01mnot\u001b[39;00m exist_ok \u001b[38;5;129;01mor\u001b[39;00m \u001b[38;5;129;01mnot\u001b[39;00m path\u001b[38;5;241m.\u001b[39misdir(name):\n",
      "\u001b[0;31mOSError\u001b[0m: [Errno 30] Read-only file system: '/test-ingolstadt1-0-drq_norm-wait_norm'"
     ]
    }
   ],
   "source": [
    "import os\n",
    "\n",
    "while 'resco_benchmark' not in os.listdir():\n",
    "    os.chdir('..')\n",
    "\n",
    "from resco_benchmark.multi_signal import MultiSignal\n",
    "from resco_benchmark.config.agent_config import agent_configs\n",
    "from resco_benchmark.config.map_config import map_configs\n",
    "from resco_benchmark.config.mdp_config import mdp_configs\n",
    "\n",
    "args = agent_configs['IDQN']\n",
    "map_name = 'ingolstadt1'\n",
    "map_config = map_configs[map_name]\n",
    "\n",
    "env = MultiSignal(run_name = 'test', map_name = map_name, \n",
    "                  net = os.path.join('resco_benchmark/', map_config['net']), state_fn = args['state'], \n",
    "                  reward_fn = args['reward'], route=None, gui=False, \n",
    "                  end_time=3600, step_length=10, yellow_length=4, step_ratio=1, \n",
    "                  max_distance=200, lights=(), log_dir='/', libsumo=False, warmup=0, gymma=False)"
   ]
  },
  {
   "cell_type": "code",
   "execution_count": 24,
   "metadata": {},
   "outputs": [
    {
     "name": "stdout",
     "output_type": "stream",
     "text": [
      "torch.Size([10, 5, 2])\n"
     ]
    }
   ],
   "source": [
    "import torch\n",
    "import torch.nn as nn\n",
    "import torch.nn.functional as F\n",
    "\n",
    "# REMARK: no activation function in GraphConvLayer!!!\n",
    "class GraphConvLayer(nn.Module):\n",
    "    def __init__(self, input_dim, output_dim):\n",
    "        super(GraphConvLayer, self).__init__()\n",
    "        self.linear = nn.Linear(input_dim, output_dim)\n",
    "\n",
    "    def forward(self, x, adj_matrix):\n",
    "        \"\"\"\n",
    "        x: [B, NUM_NODES, INPUT_DIM]\n",
    "        adj_matrix: [NUM_NODES, NUM_NODES]\n",
    "\n",
    "        output: [B, NUM_NODES, OUTPUT_DIM]\n",
    "        \"\"\"\n",
    "\n",
    "        batch_size, num_nodes, _ = x.size()\n",
    "\n",
    "        adj_matrix_hat = adj_matrix + torch.eye(n=num_nodes)\n",
    "        deg_mat_inv_square_root = torch.diag(torch.sum(adj_matrix, dim=-1)** (-0.5))\n",
    "        adj_matrix_modified = deg_mat_inv_square_root @ adj_matrix_hat @ deg_mat_inv_square_root\n",
    "        \n",
    "        output = self.linear(adj_matrix_modified @ x)\n",
    "        \n",
    "        return output\n",
    "\n",
    "class GraphNeuralNetwork(nn.Module):\n",
    "    def __init__(self, input_dim, hidden_dim, output_dim, num_layers):\n",
    "        super(GraphNeuralNetwork, self).__init__()\n",
    "        assert num_layers >= 2, \"Number of layers needs to be greater or equal to 2\"\n",
    "        self.num_middle_layers = num_layers-2\n",
    "        self.first_layer = GraphConvLayer(input_dim, hidden_dim)\n",
    "        self.middle_layers = nn.ModuleList([GraphConvLayer(hidden_dim, hidden_dim) for _ in range(self.num_middle_layers)])\n",
    "        self.last_layer = GraphConvLayer(hidden_dim, output_dim)\n",
    "\n",
    "    def forward(self, x, adj_matrix):\n",
    "        \"\"\"\n",
    "        x: [B, NUM_NODES, INPUT_FEATURES]\n",
    "        adj_matrix: [NUM_NODES, NUM_NODES]\n",
    "\n",
    "        output: [B, NUM_NODES, OUTPUT_DIM]\n",
    "        \"\"\"\n",
    "        x = F.relu(self.first_layer(x, adj_matrix))\n",
    "        for i in range(self.num_middle_layers):\n",
    "            x = F.relu(self.middle_layers[i](x, adj_matrix))\n",
    "        output = self.last_layer(x, adj_matrix)\n",
    "        return output\n",
    "\n",
    "# Correctness test\n",
    "input_dim = 16\n",
    "hidden_dim = 32\n",
    "output_dim = 2\n",
    "batch_size = 10\n",
    "num_nodes = 5\n",
    "num_layers = 6\n",
    "\n",
    "x = torch.randn(batch_size, num_nodes, input_dim)\n",
    "adj_matrix = torch.randint(0, 2, (num_nodes, num_nodes)).float()\n",
    "\n",
    "gnn = GraphNeuralNetwork(input_dim, hidden_dim, output_dim, num_layers)\n",
    "\n",
    "output = gnn(x, adj_matrix)\n",
    "print(output.shape)\n"
   ]
  },
  {
   "cell_type": "code",
   "execution_count": 7,
   "metadata": {},
   "outputs": [
    {
     "data": {
      "text/plain": [
       "'\\nPlan:\\n\\n1. Get obs from env.reset()\\n\\n2. Check shape of observation i.e. number of crossings, num of features for each crossing\\n\\n3. Create adjacency matrix.\\n\\n3. Set params for GNN so that a single observation can be passed through and yield actions\\nfor each of the crossings. Observation may be something like (NUM_CROSSINGS, CROSSING_DIM_1, CROSSING_DIM_2, ...)\\n\\n4. The output format of GNN needs to be checked and aligned with the env requirements. Might be of \\nthe shape (NUM_CROSSINGS, ACTION_SPACE) <- Q-values for pair (state, action_1), (state, action_2)...\\n\\n5. \\n'"
      ]
     },
     "execution_count": 7,
     "metadata": {},
     "output_type": "execute_result"
    }
   ],
   "source": [
    "\"\"\"\n",
    "Plan:\n",
    "\n",
    "1. Get obs from env.reset()\n",
    "\n",
    "2. Check shape of observation i.e. number of crossings, num of features for each crossing\n",
    "\n",
    "3. Create adjacency matrix.\n",
    "\n",
    "3. Set params for GNN so that a single observation can be passed through and yield actions\n",
    "for each of the crossings. Observation may be something like (NUM_CROSSINGS, CROSSING_DIM_1, CROSSING_DIM_2, ...)\n",
    "\n",
    "4. The output format of GNN needs to be checked and aligned with the env requirements. Might be of \n",
    "the shape (NUM_CROSSINGS, ACTION_SPACE) <- Q-values for pair (state, action_1), (state, action_2)...\n",
    "\n",
    "Rough notes:\n",
    "- should be consistent with SharedAgent\n",
    "\"\"\"\n"
   ]
  },
  {
   "cell_type": "code",
   "execution_count": null,
   "metadata": {},
   "outputs": [],
   "source": []
  }
 ],
 "metadata": {
  "kernelspec": {
   "display_name": "deepsenseai",
   "language": "python",
   "name": "python3"
  },
  "language_info": {
   "codemirror_mode": {
    "name": "ipython",
    "version": 3
   },
   "file_extension": ".py",
   "mimetype": "text/x-python",
   "name": "python",
   "nbconvert_exporter": "python",
   "pygments_lexer": "ipython3",
   "version": "3.10.13"
  }
 },
 "nbformat": 4,
 "nbformat_minor": 2
}
